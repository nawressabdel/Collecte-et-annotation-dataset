{
 "cells": [
  {
   "cell_type": "code",
   "execution_count": 3,
   "id": "77915401",
   "metadata": {},
   "outputs": [
    {
     "name": "stdout",
     "output_type": "stream",
     "text": [
      "Requirement already satisfied: opencv-python in c:\\users\\asus\\anaconda3\\lib\\site-packages (4.6.0.66)\n",
      "Requirement already satisfied: numpy>=1.17.3 in c:\\users\\asus\\anaconda3\\lib\\site-packages (from opencv-python) (1.21.5)\n",
      "Note: you may need to restart the kernel to use updated packages.\n"
     ]
    }
   ],
   "source": [
    "pip install opencv-python"
   ]
  },
  {
   "cell_type": "code",
   "execution_count": 16,
   "id": "39e0cba7",
   "metadata": {},
   "outputs": [],
   "source": [
    "import cv2"
   ]
  },
  {
   "cell_type": "code",
   "execution_count": 3,
   "id": "ad3ab248",
   "metadata": {},
   "outputs": [],
   "source": [
    "import cv2\n",
    "import os\n",
    "\n",
    "# Read the video from specified path\n",
    "vid = cv2.VideoCapture('Test%20de%20franchissement%20de%20ligne%20sur%20camera%20thermique.mp4')\n",
    "\n",
    "try:\n",
    "\n",
    "    # creating a folder named data\n",
    "    if not os.path.exists('frame'):\n",
    "        os.makedirs('frame')\n",
    "\n",
    "# if not created then raise error\n",
    "except OSError:\n",
    "    print('Error: Creating directory of data')\n",
    "\n",
    "# frame\n",
    "currentframe = 0\n",
    "\n",
    "while (True):\n",
    "\n",
    "    # reading from frame\n",
    "    success, fir = vid.read()\n",
    "\n",
    "    if success:\n",
    "        # continue creating images until video remains\n",
    "        name = './data/fir' + str(currentframe) + '.jpg'\n",
    "        print('Creating...' + name)\n",
    "\n",
    "        # writing the extracted images\n",
    "        cv2.imwrite(name, fir)\n",
    "\n",
    "        # increasing counter so that it will\n",
    "        # show how many frames are created\n",
    "        currentframe += 1\n",
    "    else:\n",
    "        break\n",
    "\n",
    "# Release all space and windows once done\n",
    "vid.release()\n",
    "cv2.destroyAllWindows()"
   ]
  },
  {
   "cell_type": "code",
   "execution_count": null,
   "id": "889075a1",
   "metadata": {},
   "outputs": [],
   "source": []
  },
  {
   "cell_type": "code",
   "execution_count": null,
   "id": "f10480d5",
   "metadata": {},
   "outputs": [],
   "source": []
  },
  {
   "cell_type": "code",
   "execution_count": null,
   "id": "1494218f",
   "metadata": {},
   "outputs": [],
   "source": []
  }
 ],
 "metadata": {
  "kernelspec": {
   "display_name": "Python 3 (ipykernel)",
   "language": "python",
   "name": "python3"
  },
  "language_info": {
   "codemirror_mode": {
    "name": "ipython",
    "version": 3
   },
   "file_extension": ".py",
   "mimetype": "text/x-python",
   "name": "python",
   "nbconvert_exporter": "python",
   "pygments_lexer": "ipython3",
   "version": "3.9.12"
  }
 },
 "nbformat": 4,
 "nbformat_minor": 5
}
